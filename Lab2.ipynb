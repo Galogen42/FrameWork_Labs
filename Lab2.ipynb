{
 "cells": [
  {
   "cell_type": "code",
   "execution_count": 4,
   "metadata": {
    "scrolled": false
   },
   "outputs": [
    {
     "name": "stdout",
     "output_type": "stream",
     "text": [
      "7\n",
      "[[1 0 0 0 0 0 0]\n",
      " [0 2 0 0 0 0 0]\n",
      " [0 0 3 0 0 0 0]\n",
      " [0 0 0 4 0 0 0]\n",
      " [0 0 0 0 5 0 0]\n",
      " [0 0 0 0 0 6 0]\n",
      " [0 0 0 0 0 0 7]]\n"
     ]
    }
   ],
   "source": [
    "import numpy as np\n",
    "n = int(input())\n",
    "arr = np.diag(np.linspace(1, n, n, dtype = int))\n",
    "print(arr)"
   ]
  },
  {
   "cell_type": "markdown",
   "metadata": {},
   "source": [
    "## 3"
   ]
  },
  {
   "cell_type": "code",
   "execution_count": 10,
   "metadata": {
    "scrolled": true
   },
   "outputs": [
    {
     "name": "stdout",
     "output_type": "stream",
     "text": [
      "6\n",
      "7\n",
      "2\n",
      "3\n",
      "[[0 0 0 0 0 0 0]\n",
      " [0 1 1 0 1 1 0]\n",
      " [0 0 0 0 0 0 0]\n",
      " [0 1 1 0 1 1 0]\n",
      " [0 0 0 0 0 0 0]\n",
      " [0 1 1 0 1 1 0]]\n"
     ]
    }
   ],
   "source": [
    "import numpy as np\n",
    "n = int(input())\n",
    "m = int(input())\n",
    "r = int(input())\n",
    "c = int(input())\n",
    "arr = np.ones((n,m), dtype = int)\n",
    "for i in range(0,m,c):\n",
    "    arr[:,i] = 0\n",
    "for i in range(0,n,r):\n",
    "    arr[i,:] = 0\n",
    "print(arr)"
   ]
  },
  {
   "cell_type": "markdown",
   "metadata": {},
   "source": [
    "## 4"
   ]
  },
  {
   "cell_type": "code",
   "execution_count": 106,
   "metadata": {},
   "outputs": [
    {
     "name": "stdout",
     "output_type": "stream",
     "text": [
      "6\n",
      "6\n",
      "[[0 1 2 3 4 5]\n",
      " [0 0 0 0 0 0]\n",
      " [0 0 0 0 0 0]\n",
      " [0 0 0 0 0 0]\n",
      " [0 0 0 0 0 0]\n",
      " [0 0 0 0 0 0]]\n"
     ]
    }
   ],
   "source": [
    "import numpy as np\n",
    "n = int(input())\n",
    "m = int(input())\n",
    "arr = np.zeros((n,m), dtype = int)\n",
    "for i in range(m):\n",
    "    arr[0,i] = i\n",
    "print(arr)"
   ]
  },
  {
   "cell_type": "markdown",
   "metadata": {},
   "source": [
    "## 6"
   ]
  },
  {
   "cell_type": "code",
   "execution_count": 44,
   "metadata": {
    "scrolled": true
   },
   "outputs": [
    {
     "name": "stdout",
     "output_type": "stream",
     "text": [
      "3 4 0 9 7 0 6 0 4 0 3\n",
      "[-1 -1  0 -1 -1  0 -1  0 -1  0 -1]\n"
     ]
    }
   ],
   "source": [
    "import numpy as np\n",
    "arr = np.array(input().split()).astype(int)\n",
    "a = arr.nonzero()\n",
    "for i in a:\n",
    "    arr[i] = -1\n",
    "print(arr)"
   ]
  },
  {
   "cell_type": "markdown",
   "metadata": {},
   "source": [
    "## 10"
   ]
  },
  {
   "cell_type": "code",
   "execution_count": 46,
   "metadata": {},
   "outputs": [
    {
     "name": "stdout",
     "output_type": "stream",
     "text": [
      "6\n",
      "3\n",
      "[[0.23067015 0.92885413 0.8149258 ]\n",
      " [0.77893341 0.8456192  0.28309344]\n",
      " [0.84372253 0.92961273 0.3247148 ]\n",
      " [0.75465974 0.88371962 0.49626353]\n",
      " [0.49674795 0.93456566 0.773234  ]\n",
      " [0.61224895 0.02301114 0.97628913]]\n",
      "Min: 0.023011137403109116\n",
      "Max: 0.9762891286431292\n",
      "Average: 0.6628269958431542\n",
      "Desp: 0.07770766694362145\n"
     ]
    }
   ],
   "source": [
    "import numpy as np\n",
    "n = int(input())\n",
    "m = int(input())\n",
    "arr = np.random.random((n,m))\n",
    "print(arr)\n",
    "print(\"Min:\", arr.min())\n",
    "print(\"Max:\", arr.max())\n",
    "print(\"Average:\", arr.mean())\n",
    "print(\"Desp:\", arr.var())"
   ]
  },
  {
   "cell_type": "markdown",
   "metadata": {},
   "source": [
    "## 12"
   ]
  },
  {
   "cell_type": "code",
   "execution_count": 48,
   "metadata": {},
   "outputs": [
    {
     "name": "stdout",
     "output_type": "stream",
     "text": [
      "6\n",
      "[[0. 0. 0. 0. 0. 0.]\n",
      " [0. 1. 1. 1. 1. 0.]\n",
      " [0. 1. 1. 1. 1. 0.]\n",
      " [0. 1. 1. 1. 1. 0.]\n",
      " [0. 1. 1. 1. 1. 0.]\n",
      " [0. 0. 0. 0. 0. 0.]]\n"
     ]
    }
   ],
   "source": [
    "import numpy as np\n",
    "n = int(input())\n",
    "arr = np.zeros((n,n))\n",
    "arr[1:-1,1:-1] = 1\n",
    "print(arr)"
   ]
  },
  {
   "cell_type": "markdown",
   "metadata": {},
   "source": [
    "## 15"
   ]
  },
  {
   "cell_type": "code",
   "execution_count": 64,
   "metadata": {},
   "outputs": [
    {
     "name": "stdout",
     "output_type": "stream",
     "text": [
      "[[0 1 0 1 0 1 0 1]\n",
      " [1 0 1 0 1 0 1 0]\n",
      " [0 1 0 1 0 1 0 1]\n",
      " [1 0 1 0 1 0 1 0]\n",
      " [0 1 0 1 0 1 0 1]\n",
      " [1 0 1 0 1 0 1 0]\n",
      " [0 1 0 1 0 1 0 1]\n",
      " [1 0 1 0 1 0 1 0]]\n"
     ]
    }
   ],
   "source": [
    "arr = np.zeros((8,8), dtype=int)\n",
    "arr[1::2,::2] = 1\n",
    "arr[::2,1::2] = 1\n",
    "print(arr)"
   ]
  },
  {
   "cell_type": "markdown",
   "metadata": {},
   "source": [
    "## 17"
   ]
  },
  {
   "cell_type": "code",
   "execution_count": 66,
   "metadata": {},
   "outputs": [
    {
     "name": "stdout",
     "output_type": "stream",
     "text": [
      "10\n",
      "[ 0  1  2  3  4  0  0  0  8  9 10]\n"
     ]
    }
   ],
   "source": [
    "n = int(input())\n",
    "arr = np.arange(n+1)\n",
    "arr[((n/2) <= arr) & (arr <= (3*n/4))] = 0\n",
    "print(arr)"
   ]
  },
  {
   "cell_type": "markdown",
   "metadata": {},
   "source": [
    "## 18"
   ]
  },
  {
   "cell_type": "code",
   "execution_count": 67,
   "metadata": {},
   "outputs": [
    {
     "name": "stdout",
     "output_type": "stream",
     "text": [
      "10\n",
      "[  0  -1  -2  -3  -4   5   6   7  -8  -9 -10]\n"
     ]
    }
   ],
   "source": [
    "n = int(input())\n",
    "arr = np.arange(n+1)\n",
    "arr[((n/2) > arr)] *= -1\n",
    "arr[(arr > (3*n/4))] *= -1\n",
    "print(arr)"
   ]
  },
  {
   "cell_type": "markdown",
   "metadata": {},
   "source": [
    "## 22"
   ]
  },
  {
   "cell_type": "code",
   "execution_count": 80,
   "metadata": {},
   "outputs": [
    {
     "name": "stdout",
     "output_type": "stream",
     "text": [
      "5\n",
      "10\n",
      "Изначальная матрица: \n",
      "[[7 4 7 9 2]\n",
      " [7 3 7 1 0]\n",
      " [3 0 1 3 5]\n",
      " [8 2 4 6 1]\n",
      " [5 2 0 9 6]]\n",
      "Матрица после изменений: \n",
      "[[ 7  4  7 -9  2]\n",
      " [ 7  3  7  1  0]\n",
      " [ 3  0  1  3  5]\n",
      " [ 8  2  4  6  1]\n",
      " [ 5  2  0 -9  6]]\n"
     ]
    }
   ],
   "source": [
    "n = int(input())\n",
    "m = int(input())\n",
    "arr = np.random.randint(0, m, (n,n))\n",
    "print(\"Изначальная матрица: \")\n",
    "print(arr)\n",
    "arr[arr[:,:] == arr.max()] *= -1\n",
    "print(\"Матрица после изменений: \")\n",
    "print(arr)"
   ]
  },
  {
   "cell_type": "markdown",
   "metadata": {},
   "source": [
    "## 2. Решение методом Крамера"
   ]
  },
  {
   "cell_type": "code",
   "execution_count": 84,
   "metadata": {},
   "outputs": [
    {
     "name": "stdout",
     "output_type": "stream",
     "text": [
      "Обратная матрица\n",
      " [[ 0.01587302  0.31746032  0.00634921 -0.11746032]\n",
      " [ 0.23809524 -0.23809524  0.0952381   0.23809524]\n",
      " [ 0.14285714 -0.14285714  0.05714286 -0.05714286]\n",
      " [ 0.15873016 -0.32539683  0.16349206  0.22539683]] \n",
      "\n",
      "X = B * A^(-1)\n",
      " [ 3.  2.  1. -1.] \n",
      "\n",
      "Проверка: \n"
     ]
    },
    {
     "data": {
      "text/plain": [
       "True"
      ]
     },
     "execution_count": 84,
     "metadata": {},
     "output_type": "execute_result"
    }
   ],
   "source": [
    "A = np.array([[1,5,3,-4],[3,1,-2,0],[5,-7,0,10],[0,3,-5,0]])\n",
    "B = np.array([20,9,-9,1])\n",
    "Aob = np.linalg.inv(A)\n",
    "print(\"Обратная матрица\\n\",Aob, \"\\n\")\n",
    "print(\"X = B * A^(-1)\\n\",Aob.dot(B), \"\\n\")\n",
    "print(\"Проверка: \")\n",
    "np.linalg.solve(A,B)\n",
    "np.allclose((Aob.dot(B)), np.linalg.solve(A,B), rtol=0, atol=1e-7)"
   ]
  },
  {
   "cell_type": "markdown",
   "metadata": {},
   "source": [
    "## 3. Матричное выражение"
   ]
  },
  {
   "cell_type": "code",
   "execution_count": 101,
   "metadata": {},
   "outputs": [
    {
     "name": "stdout",
     "output_type": "stream",
     "text": [
      "[[  91   64   32]\n",
      " [ 257  146    1]\n",
      " [-322 -135  -51]]\n"
     ]
    }
   ],
   "source": [
    "A = np.array([[5, 2, 0],[10, 4, 1],[7, 3, 2]])\n",
    "B = np.array([[3, 6, -1],[-1, -2, 0],[2, 1, 3]])\n",
    "\n",
    "res = np.dot((A - np.linalg.matrix_power(B, 2)),(2*A + B))\n",
    "print(res)"
   ]
  },
  {
   "cell_type": "markdown",
   "metadata": {},
   "source": [
    "## 4. Обратная матрица"
   ]
  },
  {
   "cell_type": "code",
   "execution_count": 105,
   "metadata": {},
   "outputs": [
    {
     "name": "stdout",
     "output_type": "stream",
     "text": [
      "A * X = B\n",
      "\n",
      "X = A^(-1) * B\n",
      "[[1. 2. 1.]\n",
      " [2. 1. 1.]\n",
      " [1. 1. 2.]]\n",
      "\n",
      "Проверка:\n",
      "[[1. 2. 1.]\n",
      " [2. 1. 1.]\n",
      " [1. 1. 2.]] \n",
      "\n"
     ]
    },
    {
     "data": {
      "text/plain": [
       "True"
      ]
     },
     "execution_count": 105,
     "metadata": {},
     "output_type": "execute_result"
    }
   ],
   "source": [
    "print(\"A * X = B\")\n",
    "A = np.array([[2, 3, 1],[4, -1, 0],[0, 1, 2]])\n",
    "B = np.array([[9, 8, 7],[2, 7, 3],[4, 3, 5]])\n",
    "print(\"\\nX = A^(-1) * B\")\n",
    "X = np.dot(np.linalg.inv(A), B)\n",
    "print(X)\n",
    "print(\"\\nПроверка:\")\n",
    "print(np.linalg.solve(A,B),\"\\n\")\n",
    "np.allclose((np.dot(np.linalg.inv(A), B)), np.linalg.solve(A,B), rtol=0, atol=1e-7)"
   ]
  },
  {
   "cell_type": "markdown",
   "metadata": {},
   "source": []
  }
 ],
 "metadata": {
  "kernelspec": {
   "display_name": "Python 3",
   "language": "python",
   "name": "python3"
  },
  "language_info": {
   "codemirror_mode": {
    "name": "ipython",
    "version": 3
   },
   "file_extension": ".py",
   "mimetype": "text/x-python",
   "name": "python",
   "nbconvert_exporter": "python",
   "pygments_lexer": "ipython3",
   "version": "3.7.6"
  }
 },
 "nbformat": 4,
 "nbformat_minor": 4
}
