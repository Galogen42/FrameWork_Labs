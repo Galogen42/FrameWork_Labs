{
 "cells": [
  {
   "cell_type": "markdown",
   "metadata": {
    "scrolled": false
   },
   "source": [
    "### 1. Виконати набір вправ."
   ]
  },
  {
   "cell_type": "markdown",
   "metadata": {},
   "source": [
    "#### 1) Вводиться число n. Вивести масив разміра nхn, в якому по діагоналі йдуть числа від 1 до n, а інші числа рівні 0"
   ]
  },
  {
   "cell_type": "code",
   "execution_count": 5,
   "metadata": {},
   "outputs": [
    {
     "name": "stdout",
     "output_type": "stream",
     "text": [
      "N: 6\n",
      "[[1 0 0 0 0 0]\n",
      " [0 2 0 0 0 0]\n",
      " [0 0 3 0 0 0]\n",
      " [0 0 0 4 0 0]\n",
      " [0 0 0 0 5 0]\n",
      " [0 0 0 0 0 6]]\n"
     ]
    }
   ],
   "source": [
    "import numpy as np\n",
    "n = int(input(\"N: \"))\n",
    "arr = np.diag(np.linspace(1, n, n, dtype = int))\n",
    "print(arr)"
   ]
  },
  {
   "cell_type": "markdown",
   "metadata": {},
   "source": [
    "#### 3) Вводяться 4 числа n, m, r, c. Вивести масив розміру n на m, в якому в кожному r -му рядку і в кожному c-му стовбчику стоять 0, а інші елементи дорівнюють 1."
   ]
  },
  {
   "cell_type": "code",
   "execution_count": 4,
   "metadata": {
    "scrolled": true
   },
   "outputs": [
    {
     "name": "stdout",
     "output_type": "stream",
     "text": [
      "N: 6\n",
      "M: 7\n",
      "R: 2\n",
      "C: 3\n",
      "[[0 0 0 0 0 0 0]\n",
      " [0 1 1 0 1 1 0]\n",
      " [0 0 0 0 0 0 0]\n",
      " [0 1 1 0 1 1 0]\n",
      " [0 0 0 0 0 0 0]\n",
      " [0 1 1 0 1 1 0]]\n"
     ]
    }
   ],
   "source": [
    "import numpy as np\n",
    "n = int(input(\"N: \"))\n",
    "m = int(input(\"M: \"))\n",
    "r = int(input(\"R: \"))\n",
    "c = int(input(\"C: \"))\n",
    "arr = np.ones((n,m), dtype = int)\n",
    "for i in range(0,m,c):\n",
    "    arr[:,i] = 0\n",
    "for i in range(0,n,r):\n",
    "    arr[i,:] = 0\n",
    "print(arr)"
   ]
  },
  {
   "cell_type": "markdown",
   "metadata": {},
   "source": [
    "#### 4) Вводяться числа n і m. Вивести масив розміру n на m, в якому у першому рядку (рядок з нулевим індексом) йдуть числа від 0 до m-1, а всі інші елементи матриці дорівнюють 0."
   ]
  },
  {
   "cell_type": "code",
   "execution_count": 3,
   "metadata": {},
   "outputs": [
    {
     "name": "stdout",
     "output_type": "stream",
     "text": [
      "N: 4\n",
      "M: 10\n",
      "[[0 1 2 3 4 5 6 7 8 9]\n",
      " [0 0 0 0 0 0 0 0 0 0]\n",
      " [0 0 0 0 0 0 0 0 0 0]\n",
      " [0 0 0 0 0 0 0 0 0 0]]\n"
     ]
    }
   ],
   "source": [
    "n = int(input(\"N: \"))\n",
    "m = int(input(\"M: \"))\n",
    "arr = np.zeros((n,m), dtype = int)\n",
    "arr[0,:] = np.arange(0,m,1)\n",
    "print(arr)"
   ]
  },
  {
   "cell_type": "markdown",
   "metadata": {},
   "source": [
    "#### 6) З клавіатури вводиться масив. Замінити всі ненульові елементи на - 1."
   ]
  },
  {
   "cell_type": "code",
   "execution_count": 1,
   "metadata": {},
   "outputs": [
    {
     "name": "stdout",
     "output_type": "stream",
     "text": [
      "3 4 0 9 7 0 6 0 4 0 3\n",
      "[-1 -1  0 -1 -1  0 -1  0 -1  0 -1]\n"
     ]
    }
   ],
   "source": [
    "arr = np.array(input().split()).astype(int)\n",
    "a = arr.nonzero()\n",
    "arr[a] = -1\n",
    "print(arr)"
   ]
  },
  {
   "cell_type": "markdown",
   "metadata": {},
   "source": [
    "#### 10) Вводиться числа n i m. Створити масив випадкових значень n на m і обчислити мінімальне, максимальне значення, середнє та середньо квадратичне відхилення, округлене до 3 знаків після коми"
   ]
  },
  {
   "cell_type": "code",
   "execution_count": 6,
   "metadata": {},
   "outputs": [
    {
     "name": "stdout",
     "output_type": "stream",
     "text": [
      "N: 3\n",
      "M: 6\n",
      "[[0.70986842 0.61564516 0.06023362 0.63939652 0.73152519 0.39907256]\n",
      " [0.64912991 0.32169217 0.93513842 0.778647   0.71084477 0.14132287]\n",
      " [0.59781364 0.9700961  0.9110064  0.34978086 0.57302746 0.41008916]]\n",
      "Min: 0.06023362373707253\n",
      "Max: 0.9700960970779678\n",
      "Average: 0.583573901990176\n",
      "Desp: 0.06321703364173611\n"
     ]
    }
   ],
   "source": [
    "n = int(input(\"N: \"))\n",
    "m = int(input(\"M: \"))\n",
    "arr = np.random.random((n,m))\n",
    "print(arr)\n",
    "print(\"Min:\", arr.min())\n",
    "print(\"Max:\", arr.max())\n",
    "print(\"Average:\", arr.mean())\n",
    "print(\"Desp:\", arr.var())"
   ]
  },
  {
   "cell_type": "markdown",
   "metadata": {},
   "source": [
    "#### 12) Створити масив одиниць розміром n х n та створити в ньому «рамку», сформовану з 0."
   ]
  },
  {
   "cell_type": "code",
   "execution_count": 9,
   "metadata": {},
   "outputs": [
    {
     "name": "stdout",
     "output_type": "stream",
     "text": [
      "N: 6\n",
      "[[0. 0. 0. 0. 0. 0.]\n",
      " [0. 1. 1. 1. 1. 0.]\n",
      " [0. 1. 1. 1. 1. 0.]\n",
      " [0. 1. 1. 1. 1. 0.]\n",
      " [0. 1. 1. 1. 1. 0.]\n",
      " [0. 0. 0. 0. 0. 0.]]\n"
     ]
    }
   ],
   "source": [
    "n = int(input(\"N: \"))\n",
    "arr = np.zeros((n,n))\n",
    "arr[1:-1,1:-1] = 1\n",
    "print(arr)"
   ]
  },
  {
   "cell_type": "markdown",
   "metadata": {},
   "source": [
    "#### 15) Розмістити на полі 8х8 0 та одиниці в шахматному порядку, використовуючи функцію numpy tile()."
   ]
  },
  {
   "cell_type": "code",
   "execution_count": 10,
   "metadata": {},
   "outputs": [
    {
     "name": "stdout",
     "output_type": "stream",
     "text": [
      "[[0 1 0 1 0 1 0 1]\n",
      " [1 0 1 0 1 0 1 0]\n",
      " [0 1 0 1 0 1 0 1]\n",
      " [1 0 1 0 1 0 1 0]\n",
      " [0 1 0 1 0 1 0 1]\n",
      " [1 0 1 0 1 0 1 0]\n",
      " [0 1 0 1 0 1 0 1]\n",
      " [1 0 1 0 1 0 1 0]]\n"
     ]
    }
   ],
   "source": [
    "arr = np.zeros((8,8), dtype=int)\n",
    "arr[1::2,::2] = 1\n",
    "arr[::2,1::2] = 1\n",
    "print(arr)"
   ]
  },
  {
   "cell_type": "markdown",
   "metadata": {},
   "source": [
    "#### 17) Заповнити вектор значеннями від 0 до n. Всі значення, що більші за n/2 та менші за 3n/4 замінити нулями"
   ]
  },
  {
   "cell_type": "code",
   "execution_count": 12,
   "metadata": {},
   "outputs": [
    {
     "name": "stdout",
     "output_type": "stream",
     "text": [
      "N: 15\n",
      "[ 0  1  2  3  4  5  6  7  0  0  0  0 12 13 14 15]\n"
     ]
    }
   ],
   "source": [
    "n = int(input(\"N: \"))\n",
    "arr = np.arange(n+1)\n",
    "arr[((n/2) <= arr) & (arr <= (3*n/4))] = 0\n",
    "print(arr)"
   ]
  },
  {
   "cell_type": "markdown",
   "metadata": {},
   "source": [
    "#### 18) Заповнити вектор значеннями від 0 до n. Замінити знаки для всіх значеннь, що менші за n/2 та більші за 3n/4 на протилежні"
   ]
  },
  {
   "cell_type": "code",
   "execution_count": 13,
   "metadata": {},
   "outputs": [
    {
     "name": "stdout",
     "output_type": "stream",
     "text": [
      "N: 15\n",
      "[  0  -1  -2  -3  -4  -5  -6  -7   8   9  10  11 -12 -13 -14 -15]\n"
     ]
    }
   ],
   "source": [
    "n = int(input(\"N: \"))\n",
    "arr = np.arange(n+1)\n",
    "arr[((n/2) > arr)] *= -1\n",
    "arr[(arr > (3*n/4))] *= -1\n",
    "print(arr)"
   ]
  },
  {
   "cell_type": "markdown",
   "metadata": {},
   "source": [
    "#### 22) Ввести числа n і m. Згенерувати матрицю n на n випадкових цілих елементів з діапазону [0, m]. Замінити всі максимальні елементи цієї матриці на протилежні за знаком."
   ]
  },
  {
   "cell_type": "code",
   "execution_count": 15,
   "metadata": {},
   "outputs": [
    {
     "name": "stdout",
     "output_type": "stream",
     "text": [
      "N: 5\n",
      "M: 10\n",
      "Изначальная матрица: \n",
      "[[0 3 1 7 9]\n",
      " [4 6 3 1 2]\n",
      " [4 1 0 0 1]\n",
      " [8 9 0 7 2]\n",
      " [4 6 0 4 8]]\n",
      "Матрица после изменений: \n",
      "[[ 0  3  1  7 -9]\n",
      " [ 4  6  3  1  2]\n",
      " [ 4  1  0  0  1]\n",
      " [ 8 -9  0  7  2]\n",
      " [ 4  6  0  4  8]]\n"
     ]
    }
   ],
   "source": [
    "n = int(input(\"N: \"))\n",
    "m = int(input(\"M: \"))\n",
    "arr = np.random.randint(0, m, (n,n))\n",
    "print(\"Изначальная матрица: \")\n",
    "print(arr)\n",
    "arr[arr[:,:] == arr.max()] *= -1\n",
    "print(\"Матрица после изменений: \")\n",
    "print(arr)"
   ]
  },
  {
   "cell_type": "markdown",
   "metadata": {},
   "source": [
    "### 2. Розв’язати систему за допомогою формул Крамера і виконати перевірку за допомогою матричного множення та функції numpy.linalg.solve()."
   ]
  },
  {
   "cell_type": "code",
   "execution_count": 16,
   "metadata": {},
   "outputs": [
    {
     "name": "stdout",
     "output_type": "stream",
     "text": [
      "Обратная матрица\n",
      " [[ 0.01587302  0.31746032  0.00634921 -0.11746032]\n",
      " [ 0.23809524 -0.23809524  0.0952381   0.23809524]\n",
      " [ 0.14285714 -0.14285714  0.05714286 -0.05714286]\n",
      " [ 0.15873016 -0.32539683  0.16349206  0.22539683]] \n",
      "\n",
      "X = B * A^(-1)\n",
      " [ 3.  2.  1. -1.] \n",
      "\n",
      "Проверка: \n"
     ]
    },
    {
     "data": {
      "text/plain": [
       "True"
      ]
     },
     "execution_count": 16,
     "metadata": {},
     "output_type": "execute_result"
    }
   ],
   "source": [
    "A = np.array([[1,5,3,-4],[3,1,-2,0],[5,-7,0,10],[0,3,-5,0]])\n",
    "B = np.array([20,9,-9,1])\n",
    "Aob = np.linalg.inv(A)\n",
    "print(\"Обратная матрица\\n\",Aob, \"\\n\")\n",
    "print(\"X = B * A^(-1)\\n\",Aob.dot(B), \"\\n\")\n",
    "print(\"Проверка: \")\n",
    "np.linalg.solve(A,B)\n",
    "np.allclose((Aob.dot(B)), np.linalg.solve(A,B), rtol=0, atol=1e-7)"
   ]
  },
  {
   "cell_type": "markdown",
   "metadata": {},
   "source": [
    "### 3. Обчислити значення матричного виразу."
   ]
  },
  {
   "cell_type": "code",
   "execution_count": 17,
   "metadata": {},
   "outputs": [
    {
     "name": "stdout",
     "output_type": "stream",
     "text": [
      "[[  91   64   32]\n",
      " [ 257  146    1]\n",
      " [-322 -135  -51]]\n"
     ]
    }
   ],
   "source": [
    "A = np.array([[5, 2, 0],[10, 4, 1],[7, 3, 2]])\n",
    "B = np.array([[3, 6, -1],[-1, -2, 0],[2, 1, 3]])\n",
    "\n",
    "res = np.dot((A - np.linalg.matrix_power(B, 2)),(2*A + B))\n",
    "print(res)"
   ]
  },
  {
   "cell_type": "markdown",
   "metadata": {},
   "source": [
    "### 4. Розв’язати рівняння за допомогою оберненої матриці і виконати перевірку за допомогою матричного множення та функції numpy.linalg.solve()."
   ]
  },
  {
   "cell_type": "code",
   "execution_count": 18,
   "metadata": {},
   "outputs": [
    {
     "name": "stdout",
     "output_type": "stream",
     "text": [
      "A * X = B\n",
      "\n",
      "X = A^(-1) * B\n",
      "[[1. 2. 1.]\n",
      " [2. 1. 1.]\n",
      " [1. 1. 2.]]\n",
      "\n",
      "Проверка:\n",
      "[[1. 2. 1.]\n",
      " [2. 1. 1.]\n",
      " [1. 1. 2.]] \n",
      "\n"
     ]
    },
    {
     "data": {
      "text/plain": [
       "True"
      ]
     },
     "execution_count": 18,
     "metadata": {},
     "output_type": "execute_result"
    }
   ],
   "source": [
    "print(\"A * X = B\")\n",
    "A = np.array([[2, 3, 1],[4, -1, 0],[0, 1, 2]])\n",
    "B = np.array([[9, 8, 7],[2, 7, 3],[4, 3, 5]])\n",
    "print(\"\\nX = A^(-1) * B\")\n",
    "X = np.dot(np.linalg.inv(A), B)\n",
    "print(X)\n",
    "print(\"\\nПроверка:\")\n",
    "print(np.linalg.solve(A,B),\"\\n\")\n",
    "np.allclose((np.dot(np.linalg.inv(A), B)), np.linalg.solve(A,B), rtol=0, atol=1e-7)"
   ]
  },
  {
   "cell_type": "code",
   "execution_count": null,
   "metadata": {},
   "outputs": [],
   "source": []
  }
 ],
 "metadata": {
  "kernelspec": {
   "display_name": "Python 3",
   "language": "python",
   "name": "python3"
  },
  "language_info": {
   "codemirror_mode": {
    "name": "ipython",
    "version": 3
   },
   "file_extension": ".py",
   "mimetype": "text/x-python",
   "name": "python",
   "nbconvert_exporter": "python",
   "pygments_lexer": "ipython3",
   "version": "3.7.6"
  }
 },
 "nbformat": 4,
 "nbformat_minor": 4
}
