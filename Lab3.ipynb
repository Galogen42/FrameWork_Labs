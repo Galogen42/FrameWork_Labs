{
 "cells": [
  {
   "cell_type": "code",
   "execution_count": 131,
   "metadata": {},
   "outputs": [
    {
     "data": {
      "text/plain": [
       "Text(2.5, -1.5, 'Level curve')"
      ]
     },
     "execution_count": 131,
     "metadata": {},
     "output_type": "execute_result"
    },
    {
     "data": {
      "image/png": "[encoded data removed]",
      "text/plain": [
       "<Figure size 432x288 with 1 Axes>"
      ]
     },
     "metadata": {
      "needs_background": "light"
     },
     "output_type": "display_data"
    }
   ],
   "source": [
    "import numpy as np\n",
    "import matplotlib.pyplot as plt\n",
    "from scipy.optimize import linprog\n",
    "from pulp import *\n",
    "import time\n",
    "\n",
    "c = [3, 5]\n",
    "A = [[3,2],[4,5],[1,3]]\n",
    "b = [24, 30, 15]\n",
    "\n",
    "\n",
    "def f(b, a1, a2, x):\n",
    "    y = np.array([])\n",
    "    for xIter in x:\n",
    "        yIter = (b-a1*xIter)/a2\n",
    "        y = np.append(y, yIter)\n",
    "    return y\n",
    "\n",
    "x = np.arange(2, 8, 0.1)\n",
    "for i in range(len(A)):\n",
    "    y = f(b=b[i], a1=A[i][0], x=x, a2=A[i][1])\n",
    "    plt.plot(x, y)\n",
    "    plt.fill_between(x, y, alpha=0.2)\n",
    "    plt.text(2, (b[i]-A[i][0]*3)/A[i][1], \n",
    "             '{a1}*x1+ {a2}*x2 >= {b}'.format(a1=A[i][0], a2=A[i][1], b=b[i]),\n",
    "            fontsize = 13)\n",
    "plt.grid()\n",
    "plt.plot(x, (c[0]*c[1]-np.abs(c[0])*x)/np.abs(c[1]), '--')\n",
    "plt.plot(res.x[0], res.x[1], 'ro')\n",
    "plt.annotate('Level curve', \n",
    "             xy=(3, 1), \n",
    "             xytext=(2.5, -1.5), \n",
    "             size='x-large', arrowprops=dict(facecolor='orange', arrowstyle='fancy'))"
   ]
  },
  {
   "cell_type": "code",
   "execution_count": 132,
   "metadata": {},
   "outputs": [
    {
     "name": "stdout",
     "output_type": "stream",
     "text": [
      "Scipy\n",
      "     con: array([], dtype=float64)\n",
      "     fun: 32.999999843519035\n",
      " message: 'Optimization terminated successfully.'\n",
      "     nit: 4\n",
      "   slack: array([-8.58943174e-08,  8.99999983e+00, -8.35321625e-08])\n",
      "  status: 0\n",
      " success: True\n",
      "       x: array([5.99999999, 2.99999998])\n",
      "Time :\n",
      "0.01700115203857422\n"
     ]
    }
   ],
   "source": [
    "from scipy.optimize import linprog\n",
    "from pulp import *\n",
    "import time\n",
    "import numpy as np\n",
    "print(\"Scipy\")\n",
    "start = time.time()\n",
    "c = [3, 5]\n",
    "A = [[-3,-2],[-4,-5],[-1,-3]]\n",
    "b = [-24, -30, -15]\n",
    "x0_bounds = (0,None)\n",
    "x1_bounds = (0,None)\n",
    "res = linprog(c,A_ub =A, b_ub=b, bounds=[x0_bounds, x1_bounds])\n",
    "print(res)\n",
    "stop = time.time()\n",
    "print(\"Time :\")\n",
    "print(stop - start)"
   ]
  },
  {
   "cell_type": "code",
   "execution_count": 135,
   "metadata": {},
   "outputs": [
    {
     "name": "stdout",
     "output_type": "stream",
     "text": [
      "Result: \n",
      "x1 = 6.0\n",
      "x2 = 3.0\n",
      "Cost:\n",
      " 33.0\n",
      "Time :\n",
      "0.02700042724609375\n"
     ]
    }
   ],
   "source": [
    "from scipy.optimize import linprog\n",
    "from pulp import *\n",
    "import time\n",
    "import numpy as np\n",
    "start = time.time()\n",
    "x1 = pulp.LpVariable(\"x1\", lowBound =0)\n",
    "x2 = pulp.LpVariable(\"x2\", lowBound =0)\n",
    "problem = pulp.LpProblem('0',LpMinimize)\n",
    "problem += 3*x1 + 5*x2, \"Objective function\"\n",
    "problem += 3*x1 + 2*x2 >=24, \"1-st constrain\"\n",
    "problem += 4*x1 + 5*x2 >=30, \"2-d constrain\"\n",
    "problem += 1*x1 + 3*x2 >=15, \"3-d constrain\"\n",
    "problem.solve()\n",
    "print(\"Result: \")\n",
    "answer = []\n",
    "for variable in problem.variables():\n",
    "    print(variable.name, \"=\", variable.varValue)\n",
    "    answer.append(variable.varValue)\n",
    "print(\"Cost:\\n\",3*answer[0] + 5*answer[1])\n",
    "stop = time.time()\n",
    "print(\"Time :\")\n",
    "print(stop - start)"
   ]
  },
  {
   "cell_type": "code",
   "execution_count": 136,
   "metadata": {},
   "outputs": [
    {
     "data": {
      "text/plain": [
       "True"
      ]
     },
     "execution_count": 136,
     "metadata": {},
     "output_type": "execute_result"
    }
   ],
   "source": [
    "np.allclose(res.x,answer)"
   ]
  },
  {
   "cell_type": "code",
   "execution_count": 140,
   "metadata": {},
   "outputs": [
    {
     "name": "stdout",
     "output_type": "stream",
     "text": [
      "     con: array([3.22614305e-06, 2.46705075e-06, 2.46705052e-06, 2.08750397e-06,\n",
      "       1.74591278e-06])\n",
      "     fun: 1719.999953076122\n",
      " message: 'Optimization terminated successfully.'\n",
      "     nit: 6\n",
      "   slack: array([ 45.00000095,  39.99999828,  64.99999955,  30.00000184,\n",
      "       210.00000962])\n",
      "  status: 0\n",
      " success: True\n",
      "       x: array([3.99999985e+01, 2.03872047e-07, 2.25360053e-07, 9.95043938e-08,\n",
      "       1.61563593e-07, 6.99999969e+01, 4.50663293e-06, 1.25463027e-07,\n",
      "       1.32028695e-07, 1.10975275e-07, 8.68612086e-08, 1.16458279e-07,\n",
      "       4.99999976e+01, 1.77262971e-07, 1.92679743e-07, 1.94130134e-07,\n",
      "       3.65819444e-07, 1.15295365e-07, 6.99999925e+01, 5.99999974e+01])\n",
      "Time :\n",
      "0.02900385856628418\n"
     ]
    }
   ],
   "source": [
    "start = time.time()\n",
    "\n",
    "b_ub = [85, 110, 65, 80, 340]\n",
    "b_eq = [90,70,70,60,50]  \n",
    "A=np.array([[14, 8, 7, 15, 9],[4, 5, 11, 8, 14],[15, 12, 6, 5, 9],[10, 8, 6, 4, 5]])\n",
    "\n",
    "n, m = A.shape\n",
    "c=list(np.reshape(A,n*m))\n",
    "A_ub= np.zeros([m,m*n])\n",
    "for i in np.arange(0,m,1):\n",
    "    for j in np.arange(0,n*m,1):\n",
    "        if i*n<=j<=n+i*n-1:\n",
    "            A_ub  [i,j]=1\n",
    "A_eq= np.zeros([m,m*n])\n",
    "for i in np.arange(0,m,1):\n",
    "    k=0\n",
    "    for j in np.arange(0,n*m,1):\n",
    "        if j==k*n+i:\n",
    "            A_eq [i,j]=1\n",
    "            k=k+1\n",
    "print(linprog(c, A_ub, b_ub, A_eq, b_eq))\n",
    "\n",
    "stop = time.time()\n",
    "print(\"Time :\")\n",
    "print(stop - start)"
   ]
  },
  {
   "cell_type": "code",
   "execution_count": null,
   "metadata": {},
   "outputs": [],
   "source": []
  }
 ],
 "metadata": {
  "kernelspec": {
   "display_name": "Python 3",
   "language": "python",
   "name": "python3"
  },
  "language_info": {
   "codemirror_mode": {
    "name": "ipython",
    "version": 3
   },
   "file_extension": ".py",
   "mimetype": "text/x-python",
   "name": "python",
   "nbconvert_exporter": "python",
   "pygments_lexer": "ipython3",
   "version": "3.7.6"
  }
 },
 "nbformat": 4,
 "nbformat_minor": 4
}
