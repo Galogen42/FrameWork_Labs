{
 "cells": [
  {
   "cell_type": "markdown",
   "metadata": {},
   "source": [
    "<h1 align=\"center\">Йорданія</h1>"
   ]
  },
  {
   "cell_type": "markdown",
   "metadata": {},
   "source": [
    "## Географія\n",
    "***"
   ]
  },
  {
   "cell_type": "markdown",
   "metadata": {},
   "source": [
    "\n",
    "<a href = \"https://uk.wikipedia.org/wiki/%D0%90%D0%B4%D0%BC%D1%96%D0%BD%D1%96%D1%81%D1%82%D1%80%D0%B0%D1%82%D0%B8%D0%B2%D0%BD%D0%B8%D0%B9_%D0%BF%D0%BE%D0%B4%D1%96%D0%BB_%D0%99%D0%BE%D1%80%D0%B4%D0%B0%D0%BD%D1%96%D1%97\"><img src=\"https://upload.wikimedia.org/wikipedia/commons/b/b2/Jordan_%28orthographic_projection%29.svg\" align=\"right\" alt=\"Розташування Йорданії\" width=\"200\"/></a>\n",
    "\n",
    "Межує на півночі з **Сирією** — 379 км; на північному сході з **Іраком** — 179 км; на сході і півдні з **Саудівською Аравією** — 731 км; на заході з **Ізраїлем** — 307 км + сектор Західний берег річки Йордан — 148 км. Сухопутні кордони загалом — 1777 км. На півдні має вихід до Акабської затоки **Червоного моря** — 26 км.\n",
    "\n",
    "**Рельєф**: пустельне гірське плато на сході, рифтові долини відокремлюють східний і західний береги річки Йордан.\n",
    "\n",
    "**Ваді-Рам** — пустеля, відома також як _Місячна долина_. Вона унікальна завдяки своїм рудуватим, рожевим, червоним та темно-бордовим гранітними скелям. Голівудські режисери неодноразово використовували пустелю як _знімальний майданчик_. Тут відбувалися зйомки деяких епізодів ***«Трансформерів»*** та майже всього фільму ***«Червона планета»***, в якому пустеля Ваді-Рум стала поверхнею Марса.\n"
   ]
  },
  {
   "cell_type": "markdown",
   "metadata": {},
   "source": [
    "## Клімат\n",
    "***"
   ]
  },
  {
   "cell_type": "markdown",
   "metadata": {},
   "source": [
    "Клімат в Йорданії *субтропічний*, *сухий* із *спекотним літом*. Чим далі вглиб країни від **Середземного моря**, тим більший контраст температур спостерігається і тим менше опадів там випадає. Середня висота країни становить **812 м**. У нагір'ях над долиною річки ***Йордан***, горах ***Мертвого моря*** і ***Ваді-ель-Араба*** переважає *середземноморський* клімат, у той час як східні і північно-східні райони країни є *посушливою пустелею*. Незважаючи на те, що в пустельній частині ***Йорданії*** висока температура повітря, клімат пом'якшується низькою *вологістю*, *денним бризом* та *прохолодою вночі*.\n",
    "\n",
    "Літо, що триває з травня по вересень, *жарке* й *сухе, з середньою температурою близько **32° С**, а в період з липня по серпень іноді і вище **40° С**. Зима, що триває з листопада по березень, відносно прохолодна, з температурою в середньому близько **13° С**. Взимку *часті зливи*, в найбільш піднесених частинах країни *іноді випадає сніг*, але швидко тане."
   ]
  },
  {
   "cell_type": "markdown",
   "metadata": {},
   "source": [
    "## Адміністративний поділ\n",
    "***"
   ]
  },
  {
   "cell_type": "markdown",
   "metadata": {},
   "source": [
    "Йорданія поділяється на 12 мухафаз (провінцій). Усі, крім Ель-Балка, мають однойменні адміністративні центри. На чолі мухафаз знаходяться губернатори, призначувані королем Йорданії і котрі перебувають у підпорядкуванні міністерства внутрішніх справ. Провінції розділені на 52 району.\n",
    "\n",
    "<a href = \"https://uk.wikipedia.org/wiki/%D0%90%D0%B4%D0%BC%D1%96%D0%BD%D1%96%D1%81%D1%82%D1%80%D0%B0%D1%82%D0%B8%D0%B2%D0%BD%D0%B8%D0%B9_%D0%BF%D0%BE%D0%B4%D1%96%D0%BB_%D0%99%D0%BE%D1%80%D0%B4%D0%B0%D0%BD%D1%96%D1%97\"><img src=\"https://upload.wikimedia.org/wikipedia/commons/e/e0/Jordan_governorates_named.png\" align=\"right\" alt=\"карта мухафаз Йорданії\" width=\"350\"/></a>\n",
    "\n",
    "| <big>Муфахаза</big>     | <big>Площа км² | <big>Населення(2004) |\n",
    "|:------------- |:---------:| ---------------:|\n",
    "| <big>Аджлун        | <big>412       | <big>118 496         |\n",
    "| <big>Акаба         | <big>6 583     | <big>101 736         |\n",
    "| <big>Амман         | <big>8 231     | <big>1 939 405       |\n",
    "| <big>Джераш        | <big>402       | <big>153 650         |\n",
    "| <big>Ірбід         | <big>1 621     | <big>925 736         |\n",
    "| <big>Маан          | <big>33 163    | <big>92 672          |\n",
    "| <big>Мадаб         | <big>2 008     | <big>129 792         |\n",
    "| <big>Ез-Зарка      | <big>4 080     | <big>774 569         |\n",
    "| <big>Ель-Балка     | <big>1 076     | <big>344 985         |\n",
    "| <big>Ель-Карак     | <big>3 217     | <big>204 135         |\n",
    "| <big>Ель-Мафрак    | <big>26 435    | <big>240 515         |\n",
    "| <big>Ет-Тафіла     | <big>2 114     | <big>75 290          |"
   ]
  },
  {
   "cell_type": "markdown",
   "metadata": {},
   "source": [
    "## Міста\n",
    "***"
   ]
  },
  {
   "cell_type": "markdown",
   "metadata": {},
   "source": [
    "| <big>Назва</big>     | <big>Населення\t | <big>Фото |\n",
    "|:-------------------- |:---------------:|:---------:|\n",
    "| <big>Амман           | <big>1 275 857\t | <img src=\"https://upload.wikimedia.org/wikipedia/commons/f/ff/Amman_BW_0.JPG\" align=\"right\" alt=\"Амман\" width=\"300\"/>         |\n",
    "| <big>Акаба           | <big>792 700    | <img src=\"https://upload.wikimedia.org/wikipedia/commons/d/d1/Jabal_Tariq22.JPG\" align=\"right\" alt=\"Амман\" width=\"300\"/>         |\n",
    "| <big>Амман           | <big>307 480    | <img src=\"https://upload.wikimedia.org/wikipedia/commons/f/fc/Irbid1.jpg\" align=\"right\" alt=\"Амман\" width=\"300\"/>         |\n",
    "| <big>Джераш          | <big>268 250    | <img src=\"https://upload.wikimedia.org/wikipedia/commons/e/e4/Ameriyya_District-Russeifa10.jpg\" align=\"right\" alt=\"Амман\" width=\"300\"/>         |\n",
    "| <big>Ірбід           | <big>181 200    | <img src=\"https://photos.wikimapia.org/p/00/00/87/13/34_big.jpg\" align=\"right\" alt=\"Амман\" width=\"300\"/>         |\n"
   ]
  },
  {
   "cell_type": "markdown",
   "metadata": {},
   "source": [
    "<svg xmlns=\"http://www.w3.org/2000/svg\" width=\"1200\" height=\"600\" viewBox=\"0 0 10080 5040\">\n",
    "\t<title>Flag of Jordan</title>\n",
    "\t<path fill=\"#fff\" d=\"m0 0h10080v5040H0z\"/>\n",
    "\t<path d=\"m0 0h10080v1680H0z\"/>\n",
    "\t<path fill=\"#007a3d\" d=\"m0 3360h10080v1680H0z\"/>\n",
    "\t<path fill=\"#ce1126\" d=\"m5040 2520L0 5040V0m1557 2160-78 198-203-62 106 184-176 120 211 32-16 212 156-144 157 144-16-212 210-32-175-120 106-184-203 62z\"/>\n",
    "</svg>"
   ]
  },
  {
   "cell_type": "code",
   "execution_count": 39,
   "metadata": {},
   "outputs": [],
   "source": [
    "import numbers\n",
    "import math\n",
    "def simple_num(a,b):\n",
    "    if isinstance(a, numbers.Number) == False or isinstance(b, numbers.Number) == False:\n",
    "        print(\"Variable is not number\")\n",
    "        return\n",
    "    if a > b:\n",
    "        buf = a\n",
    "        a = b\n",
    "        b = buf\n",
    "    lst = list()\n",
    "    for num in range(a,b):\n",
    "        if all(num%i!=0 for i in range(2,int(math.sqrt(num))+1)):\n",
    "            lst.append(num)\n",
    "    print(lst)\n",
    "    \n"
   ]
  },
  {
   "cell_type": "code",
   "execution_count": 40,
   "metadata": {},
   "outputs": [
    {
     "name": "stdout",
     "output_type": "stream",
     "text": [
      "[53, 59, 61, 67, 71, 73, 79, 83, 89, 97]\n"
     ]
    }
   ],
   "source": [
    "simple_num(50, 100)"
   ]
  },
  {
   "cell_type": "code",
   "execution_count": 41,
   "metadata": {},
   "outputs": [
    {
     "name": "stdout",
     "output_type": "stream",
     "text": [
      "[1, 2, 3, 5, 7, 11, 13, 17, 19, 23]\n"
     ]
    }
   ],
   "source": [
    "simple_num(25, 1)"
   ]
  },
  {
   "cell_type": "code",
   "execution_count": 43,
   "metadata": {},
   "outputs": [
    {
     "name": "stdout",
     "output_type": "stream",
     "text": [
      "Variable is not number\n"
     ]
    }
   ],
   "source": [
    "simple_num(50, \"str\")"
   ]
  }
 ],
 "metadata": {
  "kernelspec": {
   "display_name": "Python 3",
   "language": "python",
   "name": "python3"
  },
  "language_info": {
   "codemirror_mode": {
    "name": "ipython",
    "version": 3
   },
   "file_extension": ".py",
   "mimetype": "text/x-python",
   "name": "python",
   "nbconvert_exporter": "python",
   "pygments_lexer": "ipython3",
   "version": "3.7.6"
  }
 },
 "nbformat": 4,
 "nbformat_minor": 4
}
